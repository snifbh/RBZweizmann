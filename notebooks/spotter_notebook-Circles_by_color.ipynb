{
 "cells": [
  {
   "cell_type": "code",
   "execution_count": null,
   "metadata": {
    "collapsed": true
   },
   "outputs": [],
   "source": []
  },
  {
   "cell_type": "code",
   "execution_count": 2,
   "metadata": {},
   "outputs": [],
   "source": [
    "%matplotlib inline\n",
    "\n",
    "import matplotlib.pyplot as plt\n",
    "import numpy as np\n",
    "import scipy.io\n",
    "from scipy import misc\n",
    "from filesSelector import *\n",
    "from skimage import io\n",
    "from scipy.misc import imresize\n",
    "from scipy import signal\n",
    "import exifread\n",
    "import os\n",
    "import json\n"
   ]
  },
  {
   "cell_type": "code",
   "execution_count": 3,
   "metadata": {},
   "outputs": [],
   "source": [
    "def get_circ_centers(file_path):\n",
    "    # assuming i get 4 points for dna spot (rects)\n",
    "    p = np.zeros((2))\n",
    "    points=np.zeros((0,2))\n",
    "    colors = []\n",
    "    xcol = 0\n",
    "    ccol = 3\n",
    "    with open(file_path,'r') as f:\n",
    "        lines = f.readlines()\n",
    "        for i,h in enumerate(lines[0].split(',')):\n",
    "            if h == \"Center X\":\n",
    "                xcol = i\n",
    "            elif h == \"Color\":\n",
    "                ccol = i\n",
    "        for i,line in enumerate(lines[1:]):\n",
    "            l = line.split(',')\n",
    "            p[:] = np.array([float(l[xcol])*scale,float(l[xcol+1])*scale])-marker_pos[:]\n",
    "            if minus_abs_y:\n",
    "                p[1] = -np.abs(p[1])\n",
    "            if abs_y:\n",
    "                p[1] = np.abs(p[1])\n",
    "            points = np.append(points,np.reshape(p,(1,2)),axis=0)\n",
    "            colors.append(l[ccol].rstrip())\n",
    "    return points,colors\n",
    "            \n",
    "def add_point(file,pos):\n",
    "    file.write('    <point>\\n')\n",
    "    file.write('        <x>'+str(int(pos[0]))+'</x>\\n')\n",
    "    file.write('        <y>'+str(int(pos[1]))+'</y>\\n')\n",
    "    file.write('        <z>0</z>\\n')\n",
    "    file.write('        <solution>'+solution+'</solution>\\n')\n",
    "    file.write('        <duration>'+duration+'</duration>\\n')\n",
    "    file.write('    </point>\\n')\n",
    "\n",
    "def header(file):\n",
    "    file.write('<?xml version=\"1.0\" encoding=\"utf-8\" standalone=\"no\"?>\\n')\n",
    "    file.write('<pattern>\\n')\n",
    "    file.write('    <xmultiplier>1.00</xmultiplier>\\n')\n",
    "    file.write('    <ymultiplier>1.00</ymultiplier>\\n')\n",
    "    file.write('    <featurewidth>50.00</featurewidth>\\n')\n",
    "    file.write('    <gridspacing>'+str(grid_spacing)+'</gridspacing>\\n')\n",
    "    file.write('    <continuous></continuous>\\n')\n",
    "    file.write('    <canvaswidth>'+str(canvaswidth)+'</canvaswidth>\\n')\n",
    "    file.write('    <canvasheight>'+str(canvasheight)+'</canvasheight>\\n')\n",
    "    file.write('    <solutionlayer>\\n')\n",
    "    file.write('        <solutionname>'+solution+'</solutionname>\\n')\n",
    "    file.write('        <solutionlayercolorred>0.80</solutionlayercolorred>\\n')\n",
    "    file.write('        <solutionlayercolorgreen>0.00</solutionlayercolorgreen>\\n')\n",
    "    file.write('        <solutionlayercolorblue>0.00</solutionlayercolorblue>\\n')\n",
    "    file.write('    </solutionlayer>\\n')\n",
    "\n",
    "def footer(file):\n",
    "    file.write('</pattern>')\n",
    "\n",
    "\n",
    "def writefile(file_path,out_file):\n",
    "    points,colors = get_circ_centers(file_path)\n",
    "    # plot\n",
    "    for point,color in zip(points,colors):\n",
    "        plt.scatter(point[0],point[1],color=color[0])#,label=file_path.split('/')[-1]+'_'+color)\n",
    "    unique_colors = set(colors)\n",
    "    plt.scatter(0,0,marker='o')\n",
    "    plt.axis('equal')\n",
    "    plt.savefig(file_path[:-4]+'.png')\n",
    "    \n",
    "    for c in unique_colors:\n",
    "        out_file_color = '%s_%s.%s'%(''.join(out_file.split('.')[:-1]),c,'pattern')\n",
    "        print ('processing %s'%out_file_color)\n",
    "        if os.path.isfile(out_file_color):\n",
    "            os.remove(out_file_color)\n",
    "            print('overwriting exsiting pattern file')\n",
    "        else:\n",
    "            print('creating new file')\n",
    "        with open(out_file_color,'w') as file:\n",
    "            header(file)\n",
    "            for (pos,col) in zip(points,colors):\n",
    "                if col == c:\n",
    "                    for t in range(times):\n",
    "                        add_point(file,pos)\n",
    "            footer(file)\n",
    "    print('done')"
   ]
  },
  {
   "cell_type": "markdown",
   "metadata": {},
   "source": [
    "# AutoCad spoting extraction\n",
    "assuming rect poly lines for DNA points  \n",
    "In autocad:  \n",
    "1. if needed: scale in place: appload -> ScaleAboutCenters.lsp -> SAC\n",
    "1. dataextraction\n",
    "2. choose circles, extract to csv only x,y,color\n",
    "\n",
    "\n",
    "here:  \n",
    "3. select output name\n",
    "3. change marker position to it's absolute position in autocad\n",
    "4. make sure canvas size is ok\n",
    "5. change flip Y if needed (mask aligner for example)\n",
    "5. use file selector to select the txt outputs\n",
    "6. run scipt\n"
   ]
  },
  {
   "cell_type": "code",
   "execution_count": 4,
   "metadata": {},
   "outputs": [],
   "source": [
    "# globals\n",
    "\n",
    "solution = 'Solution 1'\n",
    "duration = '0'\n",
    "grid_spacing = 200\n",
    "canvaswidth=30000\n",
    "canvasheight=30000\n",
    "# marker_pos = np.array([0,0]) # singles\n",
    "# marker_pos = np.array([-9531.2,3480]) # 2d rev4.1\n",
    "# marker_pos = np.array([-9403.5,-10869.0]) # 2d rev5\n",
    "# marker_pos = np.array([-11150.9,250.1]) # noa 1d v1\n",
    "# marker_pos = np.array([-6820.8,-10843.5]) # JoshR rev 4\n",
    "# marker_pos = np.array([5874.9,3009.9])\n",
    "# marker_pos = np.array([9224.4,17.4]) # JoshR rev 5\n",
    "# marker_pos = np.array([-11803.6,7008.5]) # omers rev5\n",
    "marker_pos = np.array([-9244.4,17.4])    # 2d rev5\n",
    "scale = 1000\n",
    "\n",
    "#!!!!!!!\n",
    "abs_y = True\n",
    "minus_abs_y = False #False\n",
    "times = 1\n"
   ]
  },
  {
   "cell_type": "code",
   "execution_count": 9,
   "metadata": {
    "collapsed": true
   },
   "outputs": [
    {
     "name": "stdout",
     "output_type": "stream",
     "text": [
      "writing to file: C:\\Users\\omersha\\Dropbox (Weizmann)\\omer_spotter\\rev5_all\\blue_missing\\2d_rev5_all_cross_talk_t7_k4.csv\n",
      "processing C:\\Users\\omersha\\Dropbox (Weizmann)\\omer_spotter\\rev5_all\\blue_missing\\2d_rev5_all_cross_talk_t7_k4_red.pattern\n",
      "creating new file\n",
      "processing C:\\Users\\omersha\\Dropbox (Weizmann)\\omer_spotter\\rev5_all\\blue_missing\\2d_rev5_all_cross_talk_t7_k4_yellow.pattern\n",
      "creating new file\n",
      "processing C:\\Users\\omersha\\Dropbox (Weizmann)\\omer_spotter\\rev5_all\\blue_missing\\2d_rev5_all_cross_talk_t7_k4_green.pattern\n",
      "creating new file\n",
      "processing C:\\Users\\omersha\\Dropbox (Weizmann)\\omer_spotter\\rev5_all\\blue_missing\\2d_rev5_all_cross_talk_t7_k4_blue.pattern\n",
      "creating new file\n",
      "done\n"
     ]
    },
    {
     "data": {
      "image/png": "[encoded data removed]",
      "text/plain": [
       "<Figure size 936x360 with 1 Axes>"
      ]
     },
     "metadata": {},
     "output_type": "display_data"
    }
   ],
   "source": [
    "fileslist = []\n",
    "fileslist.append(r'C:\\Users\\omersha\\Dropbox (Weizmann)\\omer_spotter\\rev5_all\\blue_missing\\2d_rev5_all_cross_talk_t7_k4.csv')\n",
    "f,ax = plt.subplots(1,1,figsize=(13,5))\n",
    "for file in fileslist:\n",
    "    out_file_name = file\n",
    "    print ('writing to file: '+ out_file_name)\n",
    "    writefile(file,out_file_name)\n"
   ]
  }
 ],
 "metadata": {
  "kernelspec": {
   "display_name": "Python 3",
   "language": "python",
   "name": "python3"
  },
  "language_info": {
   "codemirror_mode": {
    "name": "ipython",
    "version": 3
   },
   "file_extension": ".py",
   "mimetype": "text/x-python",
   "name": "python",
   "nbconvert_exporter": "python",
   "pygments_lexer": "ipython3",
   "version": "3.6.6"
  }
 },
 "nbformat": 4,
 "nbformat_minor": 2
}
